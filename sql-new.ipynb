{
 "cells": [
  {
   "cell_type": "markdown",
   "id": "f7829466",
   "metadata": {},
   "source": [
    "## Preparation\n",
    "\n",
    "import the modules and removed previous database (if any)"
   ]
  },
  {
   "cell_type": "code",
   "execution_count": 5,
   "id": "64675d0b",
   "metadata": {},
   "outputs": [],
   "source": [
    "import sqlite3\n",
    "import pandas as pd\n",
    "import os\n",
    "\n",
    "try:\n",
    "    os.remove('file_path')\n",
    "except OSError:\n",
    "    pass"
   ]
  },
  {
   "cell_type": "markdown",
   "id": "bd9c1c03",
   "metadata": {},
   "source": [
    "\n",
    "## Create database "
   ]
  },
  {
   "cell_type": "code",
   "execution_count": 6,
   "id": "182973bd",
   "metadata": {},
   "outputs": [],
   "source": [
    "# Note your path to the database may be different \n",
    "conn = sqlite3.connect('file_path/airline2.db')"
   ]
  },
  {
   "cell_type": "markdown",
   "id": "e93e1381",
   "metadata": {},
   "source": [
    "## Create tables \n",
    "\n",
    "First create the tables for the airports, carrier and plane-data dataset "
   ]
  },
  {
   "cell_type": "code",
   "execution_count": 7,
   "id": "4b7ae334",
   "metadata": {},
   "outputs": [
    {
     "data": {
      "text/plain": [
       "5029"
      ]
     },
     "execution_count": 7,
     "metadata": {},
     "output_type": "execute_result"
    }
   ],
   "source": [
    "# Note your path to the data may be different \n",
    "airports = pd.read_csv(\"file_path/airports.csv\")\n",
    "carriers = pd.read_csv(\"file_path\")\n",
    "planes = pd.read_csv(\"file_path\")\n",
    "\n",
    "airports.to_sql('airports', con = conn, index = False)\n",
    "carriers.to_sql('carriers', con = conn, index = False)\n",
    "planes.to_sql('planes', con = conn, index = False)"
   ]
  },
  {
   "cell_type": "markdown",
   "id": "b2d5db88",
   "metadata": {},
   "source": [
    "Then create the table for ontime, which requires several csv files"
   ]
  },
  {
   "cell_type": "code",
   "execution_count": 8,
   "id": "2a9370ba",
   "metadata": {},
   "outputs": [],
   "source": [
    "c = conn.cursor()\n",
    "\n",
    "c.execute('''\n",
    "CREATE TABLE ontime (\n",
    "  Year int,\n",
    "  Month int,\n",
    "  DayofMonth int,\n",
    "  DayOfWeek int,\n",
    "  DepTime  int,\n",
    "  CRSDepTime int,\n",
    "  ArrTime int,\n",
    "  CRSArrTime int,\n",
    "  UniqueCarrier varchar(5),\n",
    "  FlightNum int,\n",
    "  TailNum varchar(8),\n",
    "  ActualElapsedTime int,\n",
    "  CRSElapsedTime int,\n",
    "  AirTime int,\n",
    "  ArrDelay int,\n",
    "  DepDelay int,\n",
    "  Origin varchar(3),\n",
    "  Dest varchar(3),\n",
    "  Distance int,\n",
    "  TaxiIn int,\n",
    "  TaxiOut int,\n",
    "  Cancelled int,\n",
    "  CancellationCode varchar(1),\n",
    "  Diverted varchar(1),\n",
    "  CarrierDelay int,\n",
    "  WeatherDelay int,\n",
    "  NASDelay int,\n",
    "  SecurityDelay int,\n",
    "  LateAircraftDelay int\n",
    ")\n",
    "''')\n",
    "conn.commit()\n",
    "\n",
    "for year in range(2006, 2009):\n",
    "    ontime = pd.read_csv(\"/Users/asmacmini/Documents/Programming_for_DS/Harvard Dataverse/Assignment 03/\"+str(year)+\".csv\")\n",
    "    ontime.to_sql('ontime', con = conn, if_exists = 'append', index = False)\n",
    "\n",
    "conn.commit()"
   ]
  },
  {
   "cell_type": "markdown",
   "id": "aa9a1753",
   "metadata": {},
   "source": [
    "## Run queries \n",
    "\n",
    "Query 1: Find model that has the lowest associated average departure delay"
   ]
  },
  {
   "cell_type": "code",
   "execution_count": 9,
   "id": "b3f4904d",
   "metadata": {},
   "outputs": [
    {
     "name": "stdout",
     "output_type": "stream",
     "text": [
      "('737-230', 12.956403269754768)\n",
      "737-282 has the lowest associated average departure delay.\n"
     ]
    }
   ],
   "source": [
    "c.execute('''\n",
    "SELECT model AS model, AVG(ontime.DepDelay) AS avg_delay\n",
    "FROM planes JOIN ontime USING(tailnum)\n",
    "WHERE ontime.Cancelled = 0 AND ontime.Diverted = 0 AND ontime.DepDelay > 0\n",
    "GROUP BY model\n",
    "ORDER BY avg_delay\n",
    "''')\n",
    "\n",
    "# get the first row using the fetchone() method\n",
    "print(c.fetchone())\n",
    "\n",
    "#only print out the plane model using index [0]\n",
    "print(c.fetchone()[0], \"has the lowest associated average departure delay.\")"
   ]
  },
  {
   "cell_type": "markdown",
   "id": "a5eabe1f",
   "metadata": {},
   "source": [
    "Query 2: Find the city that has the highest number of inbound flights (excluding canceled flights)"
   ]
  },
  {
   "cell_type": "code",
   "execution_count": 10,
   "id": "74be4cdd",
   "metadata": {},
   "outputs": [
    {
     "name": "stdout",
     "output_type": "stream",
     "text": [
      "Chicago has the highest number of inbound flights (excluding canceled flights)\n"
     ]
    }
   ],
   "source": [
    "c.execute('''\n",
    "SELECT airports.city AS city, COUNT(*) AS total\n",
    "FROM airports JOIN ontime ON ontime.dest = airports.iata\n",
    "WHERE ontime.Cancelled = 0\n",
    "GROUP BY airports.city\n",
    "ORDER BY total DESC\n",
    "''')\n",
    "\n",
    "print(c.fetchone()[0], \"has the highest number of inbound flights (excluding canceled flights)\")"
   ]
  },
  {
   "cell_type": "markdown",
   "id": "f8fcc399",
   "metadata": {},
   "source": [
    "Query 3: Find the carrier that has the highest number of canceled flights"
   ]
  },
  {
   "cell_type": "code",
   "execution_count": 11,
   "id": "20a13b51",
   "metadata": {},
   "outputs": [
    {
     "name": "stdout",
     "output_type": "stream",
     "text": [
      "American Airlines Inc. has the highest number of canceled flights\n"
     ]
    }
   ],
   "source": [
    "c.execute('''\n",
    "SELECT carriers.Description AS carrier, COUNT(*) AS total\n",
    "FROM carriers JOIN ontime ON ontime.UniqueCarrier = carriers.Code\n",
    "WHERE ontime.Cancelled = 1\n",
    "AND carriers.Description IN ('United Air Lines Inc.', 'American Airlines Inc.', 'Pinnacle Airlines Inc.', 'Delta Air Lines Inc.')\n",
    "GROUP BY carriers.Description\n",
    "ORDER BY total DESC\n",
    "''')\n",
    "\n",
    "print(c.fetchone()[0],\"has the highest number of canceled flights\")"
   ]
  },
  {
   "cell_type": "markdown",
   "id": "163d344d",
   "metadata": {},
   "source": [
    "Query 4: Find the carrier that has the highest number of canceled flights, relative to their number of total flights"
   ]
  },
  {
   "cell_type": "code",
   "execution_count": 12,
   "id": "34ae6da5",
   "metadata": {},
   "outputs": [
    {
     "name": "stdout",
     "output_type": "stream",
     "text": [
      "Pinnacle Airlines Inc. has the highest number of canceled flights, relative to their number of total flights\n"
     ]
    }
   ],
   "source": [
    "c.execute('''\n",
    "SELECT\n",
    "q1.carrier AS carrier, (CAST(q1.numerator AS FLOAT)/ CAST(q2.denominator AS FLOAT)) AS ratio\n",
    "FROM\n",
    "(\n",
    "  SELECT carriers.Description AS carrier, COUNT(*) AS numerator\n",
    "  FROM carriers JOIN ontime ON ontime.UniqueCarrier = carriers.Code\n",
    "  WHERE ontime.Cancelled = 1 AND carriers.Description IN ('United Air Lines Inc.', 'American Airlines Inc.', 'Pinnacle Airlines Inc.', 'Delta Air Lines Inc.')\n",
    "  GROUP BY carriers.Description\n",
    ") AS q1 JOIN\n",
    "(\n",
    "  SELECT carriers.Description AS carrier, COUNT(*) AS denominator\n",
    "  FROM carriers JOIN ontime ON ontime.UniqueCarrier = carriers.Code\n",
    "  WHERE carriers.Description IN ('United Air Lines Inc.', 'American Airlines Inc.', 'Pinnacle Airlines Inc.', 'Delta Air Lines Inc.')\n",
    "  GROUP BY carriers.Description\n",
    ") AS q2 USING(carrier)\n",
    "ORDER BY ratio DESC\n",
    "''')\n",
    "print(c.fetchone()[0], \"has the highest number of canceled flights, relative to their number of total flights\")"
   ]
  },
  {
   "cell_type": "markdown",
   "id": "8a4d5f6a",
   "metadata": {},
   "source": [
    "Remember to close the connection"
   ]
  },
  {
   "cell_type": "code",
   "execution_count": 30,
   "id": "fd53abba",
   "metadata": {},
   "outputs": [],
   "source": [
    "conn.close()"
   ]
  }
 ],
 "metadata": {
  "kernelspec": {
   "display_name": "Python 3 (ipykernel)",
   "language": "python",
   "name": "python3"
  },
  "language_info": {
   "codemirror_mode": {
    "name": "ipython",
    "version": 3
   },
   "file_extension": ".py",
   "mimetype": "text/x-python",
   "name": "python",
   "nbconvert_exporter": "python",
   "pygments_lexer": "ipython3",
   "version": "3.11.3"
  }
 },
 "nbformat": 4,
 "nbformat_minor": 5
}
